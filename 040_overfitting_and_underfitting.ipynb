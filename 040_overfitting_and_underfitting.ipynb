{
  "nbformat": 4,
  "nbformat_minor": 0,
  "metadata": {
    "kernelspec": {
      "display_name": "Python 3",
      "language": "python",
      "name": "python3"
    },
    "language_info": {
      "codemirror_mode": {
        "name": "ipython",
        "version": 3
      },
      "file_extension": ".py",
      "mimetype": "text/x-python",
      "name": "python",
      "nbconvert_exporter": "python",
      "pygments_lexer": "ipython3",
      "version": "3.5.2"
    },
    "colab": {
      "name": "4.4-overfitting-and-underfitting.ipynb",
      "provenance": []
    }
  },
  "cells": [
    {
      "cell_type": "markdown",
      "metadata": {
        "id": "9FfP8SmrxoJ1",
        "colab_type": "text"
      },
      "source": [
        "# Overfitting and Underfitting\n",
        "\n",
        "**Author:** [FarrokhKarimi](https://github.com/farrokhkarimi)  \n",
        "**Note:** For this notebook the best runtime type is GPU"
      ]
    },
    {
      "cell_type": "code",
      "metadata": {
        "id": "Wbm06nM1xfi_",
        "colab_type": "code",
        "colab": {
          "base_uri": "https://localhost:8080/",
          "height": 35
        },
        "outputId": "9019c9f3-c5d0-4348-d56a-778867261b66"
      },
      "source": [
        "import keras\n",
        "keras.__version__"
      ],
      "execution_count": 1,
      "outputs": [
        {
          "output_type": "execute_result",
          "data": {
            "application/vnd.google.colaboratory.intrinsic+json": {
              "type": "string"
            },
            "text/plain": [
              "'2.4.3'"
            ]
          },
          "metadata": {
            "tags": []
          },
          "execution_count": 1
        }
      ]
    },
    {
      "cell_type": "markdown",
      "metadata": {
        "id": "zKaJE-JLxfjS",
        "colab_type": "text"
      },
      "source": [
        "# Overfitting and underfitting\n",
        "\n",
        "In all the examples we saw in the previous chapter -- movie review sentiment prediction, topic classification, and house price regression -- \n",
        "we could notice that the performance of our model on the held-out validation data would always peak after a few epochs and would then start \n",
        "degrading, i.e. our model would quickly start to _overfit_ to the training data. Overfitting happens in every single machine learning \n",
        "problem. Learning how to deal with overfitting is essential to mastering machine learning.\n",
        "\n",
        "The fundamental issue in machine learning is the tension between optimization and generalization. \"**Optimization**\" refers to the process of \n",
        "adjusting a model to get the best performance possible on the training data (the \"learning\" in \"machine learning\"), while \"**generalization**\" \n",
        "refers to how well the trained model would perform on data it has never seen before. The goal of the game is to get good generalization, of \n",
        "course, but you do not control generalization; you can only adjust the model based on its training data.\n",
        "\n",
        "At the beginning of training, optimization and generalization are correlated: the lower your loss on training data, the lower your loss on \n",
        "test data. While this is happening, your model is said to be _under-fit_: there is still progress to be made; the network hasn't yet \n",
        "modeled all relevant patterns in the training data. But after a certain number of iterations on the training data, generalization stops \n",
        "improving, validation metrics stall then start degrading: the model is then starting to over-fit, i.e. is it starting to learn patterns \n",
        "that are specific to the training data but that are misleading or irrelevant when it comes to new data.\n",
        "\n",
        "To prevent a model from learning misleading or irrelevant patterns found in the training data, _the best solution is of course to get \n",
        "more training data_. A model trained on more data will naturally generalize better. When that is no longer possible, the next best solution \n",
        "is to modulate the quantity of information that your model is allowed to store, or to add constraints on what information it is allowed to \n",
        "store. If a network can only afford to memorize a small number of patterns, the optimization process will force it to focus on the most \n",
        "prominent patterns, which have a better chance of generalizing well.\n",
        "\n",
        "The processing of fighting overfitting in this way is called _**regularization**_. Let's review some of the most common regularization \n",
        "techniques, and let's apply them in practice to improve our movie classification model from  the previous chapter."
      ]
    },
    {
      "cell_type": "markdown",
      "metadata": {
        "id": "lkiQBbDYxfjU",
        "colab_type": "text"
      },
      "source": [
        "Note: in this notebook we will be using the IMDB test set as our validation set. It doesn't matter in this context."
      ]
    },
    {
      "cell_type": "code",
      "metadata": {
        "id": "TqBTqIrFxfjV",
        "colab_type": "code",
        "colab": {
          "base_uri": "https://localhost:8080/",
          "height": 51
        },
        "outputId": "802c2acd-9f69-4a9e-8467-8f658fb2c89e"
      },
      "source": [
        "from keras.datasets import imdb\n",
        "import numpy as np\n",
        "\n",
        "(train_data, train_labels), (test_data, test_labels) = imdb.load_data(num_words=10000)\n",
        "\n",
        "def vectorize_sequences(sequences, dimension=10000):\n",
        "    # Create an all-zero matrix of shape (len(sequences), dimension)\n",
        "    results = np.zeros((len(sequences), dimension))\n",
        "    for i, sequence in enumerate(sequences):\n",
        "        results[i, sequence] = 1.  # set specific indices of results[i] to 1s\n",
        "    return results\n",
        "\n",
        "# Our vectorized training data\n",
        "x_train = vectorize_sequences(train_data)\n",
        "# Our vectorized test data\n",
        "x_test = vectorize_sequences(test_data)\n",
        "# Our vectorized labels\n",
        "y_train = np.asarray(train_labels).astype('float32')\n",
        "y_test = np.asarray(test_labels).astype('float32')"
      ],
      "execution_count": 2,
      "outputs": [
        {
          "output_type": "stream",
          "text": [
            "Downloading data from https://storage.googleapis.com/tensorflow/tf-keras-datasets/imdb.npz\n",
            "17465344/17464789 [==============================] - 0s 0us/step\n"
          ],
          "name": "stdout"
        }
      ]
    },
    {
      "cell_type": "markdown",
      "metadata": {
        "id": "I3M7dJ7Hxfjd",
        "colab_type": "text"
      },
      "source": [
        "# Fighting overfitting\n",
        "\n",
        "## Reducing the network's size\n",
        "\n",
        "\n",
        "The simplest way to prevent overfitting is to reduce the size of the model, i.e. the number of learnable parameters in the model (which is \n",
        "determined by the number of layers and the number of units per layer). In deep learning, the number of learnable parameters in a model is \n",
        "often referred to as the model's \"capacity\". Intuitively, a model with more parameters will have more \"memorization capacity\" and therefore \n",
        "will be able to easily learn a perfect dictionary-like mapping between training samples and their targets, a mapping without any \n",
        "generalization power. For instance, a model with 500,000 binary parameters could easily be made to learn the class of every digits in the \n",
        "MNIST training set: we would only need 10 binary parameters for each of the 50,000 digits. Such a model would be useless for classifying \n",
        "new digit samples. Always keep this in mind: deep learning models tend to be good at fitting to the training data, but the real challenge \n",
        "is generalization, not fitting.\n",
        "\n",
        "On the other hand, if the network has limited memorization resources, it will not be able to learn this mapping as easily, and thus, in \n",
        "order to minimize its loss, it will have to resort to learning compressed representations that have predictive power regarding the targets \n",
        "-- precisely the type of representations that we are interested in. At the same time, keep in mind that you should be using models that have \n",
        "enough parameters that they won't be underfitting: your model shouldn't be starved for memorization resources. There is a compromise to be \n",
        "found between \"too much capacity\" and \"not enough capacity\".\n",
        "\n",
        "Unfortunately, there is no magical formula to determine what the right number of layers is, or what the right size for each layer is. You \n",
        "will have to evaluate an array of different architectures (on your validation set, not on your test set, of course) in order to find the \n",
        "right model size for your data. The general workflow to find an appropriate model size is to start with relatively few layers and \n",
        "parameters, and start increasing the size of the layers or adding new layers until you see diminishing returns with regard to the \n",
        "validation loss.\n",
        "\n",
        "Let's try this on our movie review classification network. Our original network was as such:"
      ]
    },
    {
      "cell_type": "code",
      "metadata": {
        "id": "kXwuNUuKxfje",
        "colab_type": "code",
        "colab": {}
      },
      "source": [
        "from keras import models\n",
        "from keras import layers\n",
        "\n",
        "original_model = models.Sequential()\n",
        "original_model.add(layers.Dense(16, activation='relu', input_shape=(10000,)))\n",
        "original_model.add(layers.Dense(16, activation='relu'))\n",
        "original_model.add(layers.Dense(1, activation='sigmoid'))\n",
        "\n",
        "original_model.compile(optimizer='rmsprop',\n",
        "                       loss='binary_crossentropy',\n",
        "                       metrics=['acc'])"
      ],
      "execution_count": 3,
      "outputs": []
    },
    {
      "cell_type": "markdown",
      "metadata": {
        "id": "BtPTAocoxfjj",
        "colab_type": "text"
      },
      "source": [
        "Now let's try to replace it with this smaller network:"
      ]
    },
    {
      "cell_type": "code",
      "metadata": {
        "id": "PVzmnxXixfjn",
        "colab_type": "code",
        "colab": {}
      },
      "source": [
        "smaller_model = models.Sequential()\n",
        "smaller_model.add(layers.Dense(4, activation='relu', input_shape=(10000,)))\n",
        "smaller_model.add(layers.Dense(4, activation='relu'))\n",
        "smaller_model.add(layers.Dense(1, activation='sigmoid'))\n",
        "\n",
        "smaller_model.compile(optimizer='rmsprop',\n",
        "                      loss='binary_crossentropy',\n",
        "                      metrics=['acc'])"
      ],
      "execution_count": 4,
      "outputs": []
    },
    {
      "cell_type": "markdown",
      "metadata": {
        "id": "u2B4WEhTxfjy",
        "colab_type": "text"
      },
      "source": [
        "\n",
        "Here's a comparison of the validation losses of the original network and the smaller network. The dots are the validation loss values of \n",
        "the smaller network, and the crosses are the initial network (remember: a lower validation loss signals a better model)."
      ]
    },
    {
      "cell_type": "code",
      "metadata": {
        "id": "1rmj9ucgxfjz",
        "colab_type": "code",
        "colab": {
          "base_uri": "https://localhost:8080/",
          "height": 697
        },
        "outputId": "f09d59f6-3b9f-42c8-d39e-cdb4d72e971a"
      },
      "source": [
        "original_hist = original_model.fit(x_train, y_train,\n",
        "                                   epochs=20,\n",
        "                                   batch_size=512,\n",
        "                                   validation_data=(x_test, y_test))"
      ],
      "execution_count": 5,
      "outputs": [
        {
          "output_type": "stream",
          "text": [
            "Epoch 1/20\n",
            "49/49 [==============================] - 3s 56ms/step - loss: 0.4464 - acc: 0.8215 - val_loss: 0.3333 - val_acc: 0.8797\n",
            "Epoch 2/20\n",
            "49/49 [==============================] - 2s 37ms/step - loss: 0.2543 - acc: 0.9110 - val_loss: 0.2885 - val_acc: 0.8860\n",
            "Epoch 3/20\n",
            "49/49 [==============================] - 2s 37ms/step - loss: 0.1974 - acc: 0.9292 - val_loss: 0.3242 - val_acc: 0.8695\n",
            "Epoch 4/20\n",
            "49/49 [==============================] - 2s 37ms/step - loss: 0.1672 - acc: 0.9414 - val_loss: 0.2974 - val_acc: 0.8809\n",
            "Epoch 5/20\n",
            "49/49 [==============================] - 2s 37ms/step - loss: 0.1449 - acc: 0.9486 - val_loss: 0.3133 - val_acc: 0.8794\n",
            "Epoch 6/20\n",
            "49/49 [==============================] - 2s 36ms/step - loss: 0.1267 - acc: 0.9565 - val_loss: 0.3351 - val_acc: 0.8764\n",
            "Epoch 7/20\n",
            "49/49 [==============================] - 2s 37ms/step - loss: 0.1139 - acc: 0.9610 - val_loss: 0.3704 - val_acc: 0.8705\n",
            "Epoch 8/20\n",
            "49/49 [==============================] - 2s 37ms/step - loss: 0.1022 - acc: 0.9649 - val_loss: 0.4252 - val_acc: 0.8586\n",
            "Epoch 9/20\n",
            "49/49 [==============================] - 2s 38ms/step - loss: 0.0903 - acc: 0.9707 - val_loss: 0.4206 - val_acc: 0.8648\n",
            "Epoch 10/20\n",
            "49/49 [==============================] - 2s 37ms/step - loss: 0.0843 - acc: 0.9709 - val_loss: 0.4400 - val_acc: 0.8651\n",
            "Epoch 11/20\n",
            "49/49 [==============================] - 2s 38ms/step - loss: 0.0734 - acc: 0.9768 - val_loss: 0.4653 - val_acc: 0.8620\n",
            "Epoch 12/20\n",
            "49/49 [==============================] - 2s 38ms/step - loss: 0.0638 - acc: 0.9802 - val_loss: 0.4987 - val_acc: 0.8606\n",
            "Epoch 13/20\n",
            "49/49 [==============================] - 2s 36ms/step - loss: 0.0587 - acc: 0.9811 - val_loss: 0.6127 - val_acc: 0.8450\n",
            "Epoch 14/20\n",
            "49/49 [==============================] - 2s 37ms/step - loss: 0.0528 - acc: 0.9840 - val_loss: 0.5649 - val_acc: 0.8549\n",
            "Epoch 15/20\n",
            "49/49 [==============================] - 2s 37ms/step - loss: 0.0457 - acc: 0.9859 - val_loss: 0.6109 - val_acc: 0.8529\n",
            "Epoch 16/20\n",
            "49/49 [==============================] - 2s 37ms/step - loss: 0.0431 - acc: 0.9869 - val_loss: 0.6256 - val_acc: 0.8538\n",
            "Epoch 17/20\n",
            "49/49 [==============================] - 2s 37ms/step - loss: 0.0331 - acc: 0.9905 - val_loss: 0.7445 - val_acc: 0.8418\n",
            "Epoch 18/20\n",
            "49/49 [==============================] - 2s 37ms/step - loss: 0.0327 - acc: 0.9905 - val_loss: 0.7044 - val_acc: 0.8495\n",
            "Epoch 19/20\n",
            "49/49 [==============================] - 2s 37ms/step - loss: 0.0264 - acc: 0.9927 - val_loss: 0.7520 - val_acc: 0.8479\n",
            "Epoch 20/20\n",
            "49/49 [==============================] - 2s 37ms/step - loss: 0.0237 - acc: 0.9937 - val_loss: 0.7846 - val_acc: 0.8474\n"
          ],
          "name": "stdout"
        }
      ]
    },
    {
      "cell_type": "code",
      "metadata": {
        "id": "y2KG92-Xxfj7",
        "colab_type": "code",
        "colab": {
          "base_uri": "https://localhost:8080/",
          "height": 697
        },
        "outputId": "8b27d030-f624-4942-b237-b5eee6a2cbb5"
      },
      "source": [
        "smaller_model_hist = smaller_model.fit(x_train, y_train,\n",
        "                                       epochs=20,\n",
        "                                       batch_size=512,\n",
        "                                       validation_data=(x_test, y_test))"
      ],
      "execution_count": 6,
      "outputs": [
        {
          "output_type": "stream",
          "text": [
            "Epoch 1/20\n",
            "49/49 [==============================] - 3s 51ms/step - loss: 0.5483 - acc: 0.8041 - val_loss: 0.4496 - val_acc: 0.8645\n",
            "Epoch 2/20\n",
            "49/49 [==============================] - 2s 33ms/step - loss: 0.3640 - acc: 0.8893 - val_loss: 0.3465 - val_acc: 0.8810\n",
            "Epoch 3/20\n",
            "49/49 [==============================] - 2s 34ms/step - loss: 0.2745 - acc: 0.9116 - val_loss: 0.3025 - val_acc: 0.8867\n",
            "Epoch 4/20\n",
            "49/49 [==============================] - 2s 33ms/step - loss: 0.2250 - acc: 0.9249 - val_loss: 0.2836 - val_acc: 0.8894\n",
            "Epoch 5/20\n",
            "49/49 [==============================] - 2s 33ms/step - loss: 0.1951 - acc: 0.9332 - val_loss: 0.2808 - val_acc: 0.8885\n",
            "Epoch 6/20\n",
            "49/49 [==============================] - 2s 33ms/step - loss: 0.1737 - acc: 0.9408 - val_loss: 0.2804 - val_acc: 0.8888\n",
            "Epoch 7/20\n",
            "49/49 [==============================] - 2s 34ms/step - loss: 0.1563 - acc: 0.9472 - val_loss: 0.2897 - val_acc: 0.8844\n",
            "Epoch 8/20\n",
            "49/49 [==============================] - 2s 33ms/step - loss: 0.1424 - acc: 0.9519 - val_loss: 0.3021 - val_acc: 0.8824\n",
            "Epoch 9/20\n",
            "49/49 [==============================] - 2s 33ms/step - loss: 0.1312 - acc: 0.9565 - val_loss: 0.3118 - val_acc: 0.8800\n",
            "Epoch 10/20\n",
            "49/49 [==============================] - 2s 33ms/step - loss: 0.1210 - acc: 0.9601 - val_loss: 0.3206 - val_acc: 0.8782\n",
            "Epoch 11/20\n",
            "49/49 [==============================] - 2s 33ms/step - loss: 0.1122 - acc: 0.9651 - val_loss: 0.3348 - val_acc: 0.8770\n",
            "Epoch 12/20\n",
            "49/49 [==============================] - 2s 33ms/step - loss: 0.1041 - acc: 0.9668 - val_loss: 0.3519 - val_acc: 0.8733\n",
            "Epoch 13/20\n",
            "49/49 [==============================] - 2s 34ms/step - loss: 0.0969 - acc: 0.9702 - val_loss: 0.3655 - val_acc: 0.8723\n",
            "Epoch 14/20\n",
            "49/49 [==============================] - 2s 33ms/step - loss: 0.0901 - acc: 0.9722 - val_loss: 0.3815 - val_acc: 0.8698\n",
            "Epoch 15/20\n",
            "49/49 [==============================] - 2s 33ms/step - loss: 0.0847 - acc: 0.9750 - val_loss: 0.3994 - val_acc: 0.8684\n",
            "Epoch 16/20\n",
            "49/49 [==============================] - 2s 34ms/step - loss: 0.0788 - acc: 0.9763 - val_loss: 0.4197 - val_acc: 0.8657\n",
            "Epoch 17/20\n",
            "49/49 [==============================] - 2s 33ms/step - loss: 0.0733 - acc: 0.9784 - val_loss: 0.4347 - val_acc: 0.8659\n",
            "Epoch 18/20\n",
            "49/49 [==============================] - 2s 33ms/step - loss: 0.0689 - acc: 0.9807 - val_loss: 0.4560 - val_acc: 0.8635\n",
            "Epoch 19/20\n",
            "49/49 [==============================] - 2s 34ms/step - loss: 0.0636 - acc: 0.9826 - val_loss: 0.4836 - val_acc: 0.8580\n",
            "Epoch 20/20\n",
            "49/49 [==============================] - 2s 33ms/step - loss: 0.0601 - acc: 0.9838 - val_loss: 0.4959 - val_acc: 0.8600\n"
          ],
          "name": "stdout"
        }
      ]
    },
    {
      "cell_type": "code",
      "metadata": {
        "id": "MO4wAl6vxfkK",
        "colab_type": "code",
        "colab": {}
      },
      "source": [
        "epochs = range(1, 21)\n",
        "original_val_loss = original_hist.history['val_loss']\n",
        "smaller_model_val_loss = smaller_model_hist.history['val_loss']"
      ],
      "execution_count": 7,
      "outputs": []
    },
    {
      "cell_type": "code",
      "metadata": {
        "id": "sMwMLtKixfkZ",
        "colab_type": "code",
        "colab": {
          "base_uri": "https://localhost:8080/",
          "height": 280
        },
        "outputId": "523b9c08-d540-472a-d2b5-93cd8ae58d3b"
      },
      "source": [
        "import matplotlib.pyplot as plt\n",
        "\n",
        "# b+ is for \"blue cross\"\n",
        "plt.plot(epochs, original_val_loss, 'b+', label='Original model')\n",
        "# \"bo\" is for \"blue dot\"\n",
        "plt.plot(epochs, smaller_model_val_loss, 'bo', label='Smaller model')\n",
        "plt.xlabel('Epochs')\n",
        "plt.ylabel('Validation loss')\n",
        "plt.legend()\n",
        "\n",
        "plt.show()"
      ],
      "execution_count": 8,
      "outputs": [
        {
          "output_type": "display_data",
          "data": {
            "image/png": "[encoded data removed]",
            "text/plain": [
              "<Figure size 432x288 with 1 Axes>"
            ]
          },
          "metadata": {
            "tags": [],
            "needs_background": "light"
          }
        }
      ]
    },
    {
      "cell_type": "markdown",
      "metadata": {
        "id": "vDFM_HD7xfkh",
        "colab_type": "text"
      },
      "source": [
        "\n",
        "As you can see, the smaller network starts overfitting later than the reference one (after 6 epochs rather than 4) and its performance \n",
        "degrades much more slowly once it starts overfitting.\n",
        "\n",
        "Now, for kicks, let's add to this benchmark a network that has much more capacity, far more than the problem would warrant:"
      ]
    },
    {
      "cell_type": "code",
      "metadata": {
        "id": "d-veufWWxfki",
        "colab_type": "code",
        "colab": {}
      },
      "source": [
        "bigger_model = models.Sequential()\n",
        "bigger_model.add(layers.Dense(512, activation='relu', input_shape=(10000,)))\n",
        "bigger_model.add(layers.Dense(512, activation='relu'))\n",
        "bigger_model.add(layers.Dense(1, activation='sigmoid'))\n",
        "\n",
        "bigger_model.compile(optimizer='rmsprop',\n",
        "                     loss='binary_crossentropy',\n",
        "                     metrics=['acc'])"
      ],
      "execution_count": 9,
      "outputs": []
    },
    {
      "cell_type": "code",
      "metadata": {
        "id": "IYateoBzxfkx",
        "colab_type": "code",
        "colab": {
          "base_uri": "https://localhost:8080/",
          "height": 697
        },
        "outputId": "ef28480b-a5cb-4ce2-ff35-e3a7174dedec"
      },
      "source": [
        "bigger_model_hist = bigger_model.fit(x_train, y_train,\n",
        "                                     epochs=20,\n",
        "                                     batch_size=512,\n",
        "                                     validation_data=(x_test, y_test))"
      ],
      "execution_count": 10,
      "outputs": [
        {
          "output_type": "stream",
          "text": [
            "Epoch 1/20\n",
            "49/49 [==============================] - 17s 357ms/step - loss: 0.4496 - acc: 0.8010 - val_loss: 0.5717 - val_acc: 0.7600\n",
            "Epoch 2/20\n",
            "49/49 [==============================] - 16s 324ms/step - loss: 0.2167 - acc: 0.9144 - val_loss: 0.2837 - val_acc: 0.8875\n",
            "Epoch 3/20\n",
            "49/49 [==============================] - 16s 327ms/step - loss: 0.1264 - acc: 0.9541 - val_loss: 0.3670 - val_acc: 0.8779\n",
            "Epoch 4/20\n",
            "49/49 [==============================] - 16s 327ms/step - loss: 0.0546 - acc: 0.9824 - val_loss: 0.4454 - val_acc: 0.8789\n",
            "Epoch 5/20\n",
            "49/49 [==============================] - 16s 324ms/step - loss: 0.0691 - acc: 0.9878 - val_loss: 0.5132 - val_acc: 0.8814\n",
            "Epoch 6/20\n",
            "49/49 [==============================] - 16s 325ms/step - loss: 0.0013 - acc: 1.0000 - val_loss: 0.7531 - val_acc: 0.8807\n",
            "Epoch 7/20\n",
            "49/49 [==============================] - 16s 329ms/step - loss: 0.1435 - acc: 0.9880 - val_loss: 0.6691 - val_acc: 0.8688\n",
            "Epoch 8/20\n",
            "49/49 [==============================] - 16s 328ms/step - loss: 3.4152e-04 - acc: 1.0000 - val_loss: 0.7584 - val_acc: 0.8780\n",
            "Epoch 9/20\n",
            "49/49 [==============================] - 17s 339ms/step - loss: 5.8481e-05 - acc: 1.0000 - val_loss: 0.8963 - val_acc: 0.8786\n",
            "Epoch 10/20\n",
            "49/49 [==============================] - 16s 329ms/step - loss: 8.9433e-06 - acc: 1.0000 - val_loss: 1.0812 - val_acc: 0.8792\n",
            "Epoch 11/20\n",
            "49/49 [==============================] - 16s 333ms/step - loss: 1.3294e-06 - acc: 1.0000 - val_loss: 1.2255 - val_acc: 0.8774\n",
            "Epoch 12/20\n",
            "49/49 [==============================] - 16s 327ms/step - loss: 2.2428e-07 - acc: 1.0000 - val_loss: 1.3517 - val_acc: 0.8787\n",
            "Epoch 13/20\n",
            "49/49 [==============================] - 16s 325ms/step - loss: 5.0317e-08 - acc: 1.0000 - val_loss: 1.4579 - val_acc: 0.8788\n",
            "Epoch 14/20\n",
            "49/49 [==============================] - 16s 332ms/step - loss: 2.1924e-08 - acc: 1.0000 - val_loss: 1.5103 - val_acc: 0.8786\n",
            "Epoch 15/20\n",
            "49/49 [==============================] - 16s 336ms/step - loss: 1.3724e-08 - acc: 1.0000 - val_loss: 1.5434 - val_acc: 0.8789\n",
            "Epoch 16/20\n",
            "49/49 [==============================] - 16s 330ms/step - loss: 1.0018e-08 - acc: 1.0000 - val_loss: 1.5667 - val_acc: 0.8789\n",
            "Epoch 17/20\n",
            "49/49 [==============================] - 16s 328ms/step - loss: 7.8906e-09 - acc: 1.0000 - val_loss: 1.5839 - val_acc: 0.8789\n",
            "Epoch 18/20\n",
            "49/49 [==============================] - 16s 328ms/step - loss: 6.5392e-09 - acc: 1.0000 - val_loss: 1.5982 - val_acc: 0.8787\n",
            "Epoch 19/20\n",
            "49/49 [==============================] - 16s 332ms/step - loss: 5.5684e-09 - acc: 1.0000 - val_loss: 1.6118 - val_acc: 0.8786\n",
            "Epoch 20/20\n",
            "49/49 [==============================] - 16s 328ms/step - loss: 4.8781e-09 - acc: 1.0000 - val_loss: 1.6210 - val_acc: 0.8786\n"
          ],
          "name": "stdout"
        }
      ]
    },
    {
      "cell_type": "markdown",
      "metadata": {
        "id": "IoHeqJmsxfk3",
        "colab_type": "text"
      },
      "source": [
        "Here's how the bigger network fares compared to the reference one. The dots are the validation loss values of the bigger network, and the \n",
        "crosses are the initial network."
      ]
    },
    {
      "cell_type": "code",
      "metadata": {
        "id": "zTsX7QO1xflB",
        "colab_type": "code",
        "colab": {
          "base_uri": "https://localhost:8080/",
          "height": 279
        },
        "outputId": "508afc04-ef2e-41a1-d3cd-f87aa16f5e3c"
      },
      "source": [
        "bigger_model_val_loss = bigger_model_hist.history['val_loss']\n",
        "\n",
        "plt.plot(epochs, original_val_loss, 'b+', label='Original model')\n",
        "plt.plot(epochs, bigger_model_val_loss, 'bo', label='Bigger model')\n",
        "plt.xlabel('Epochs')\n",
        "plt.ylabel('Validation loss')\n",
        "plt.legend()\n",
        "\n",
        "plt.show()"
      ],
      "execution_count": 11,
      "outputs": [
        {
          "output_type": "display_data",
          "data": {
            "image/png": "[encoded data removed]",
            "text/plain": [
              "<Figure size 432x288 with 1 Axes>"
            ]
          },
          "metadata": {
            "tags": [],
            "needs_background": "light"
          }
        }
      ]
    },
    {
      "cell_type": "markdown",
      "metadata": {
        "id": "pLkys3XoxflG",
        "colab_type": "text"
      },
      "source": [
        "\n",
        "The bigger network starts overfitting almost right away, after just one epoch, and overfits much more severely. Its validation loss is also \n",
        "more noisy.\n",
        "\n",
        "Meanwhile, here are the training losses for our two networks:"
      ]
    },
    {
      "cell_type": "code",
      "metadata": {
        "id": "kLbuEEYrxflH",
        "colab_type": "code",
        "colab": {
          "base_uri": "https://localhost:8080/",
          "height": 279
        },
        "outputId": "85026173-0450-4aaf-bf46-9b35d4ebd8f7"
      },
      "source": [
        "original_train_loss = original_hist.history['loss']\n",
        "bigger_model_train_loss = bigger_model_hist.history['loss']\n",
        "\n",
        "plt.plot(epochs, original_train_loss, 'b+', label='Original model')\n",
        "plt.plot(epochs, bigger_model_train_loss, 'bo', label='Bigger model')\n",
        "plt.xlabel('Epochs')\n",
        "plt.ylabel('Training loss')\n",
        "plt.legend()\n",
        "\n",
        "plt.show()"
      ],
      "execution_count": 12,
      "outputs": [
        {
          "output_type": "display_data",
          "data": {
            "image/png": "[encoded data removed]",
            "text/plain": [
              "<Figure size 432x288 with 1 Axes>"
            ]
          },
          "metadata": {
            "tags": [],
            "needs_background": "light"
          }
        }
      ]
    },
    {
      "cell_type": "markdown",
      "metadata": {
        "id": "Ft2IlS6HxflO",
        "colab_type": "text"
      },
      "source": [
        "As you can see, the bigger network gets its training loss near zero very quickly. The more capacity the network has, the quicker it will be \n",
        "able to model the training data (resulting in a low training loss), but the more susceptible it is to overfitting (resulting in a large \n",
        "difference between the training and validation loss)."
      ]
    },
    {
      "cell_type": "markdown",
      "metadata": {
        "id": "feE5mYLxxflV",
        "colab_type": "text"
      },
      "source": [
        "## Adding weight regularization\n",
        "\n",
        "\n",
        "You may be familiar with _Occam's Razor_ principle: given two explanations for something, the explanation most likely to be correct is the \n",
        "\"simplest\" one, the one that makes the least amount of assumptions. This also applies to the models learned by neural networks: given some \n",
        "training data and a network architecture, there are multiple sets of weights values (multiple _models_) that could explain the data, and \n",
        "simpler models are less likely to overfit than complex ones.\n",
        "\n",
        "A \"simple model\" in this context is a model where the distribution of parameter values has less entropy (or a model with fewer \n",
        "parameters altogether, as we saw in the section above). Thus a common way to mitigate overfitting is to put constraints on the complexity \n",
        "of a network by forcing its weights to only take small values, which makes the distribution of weight values more \"regular\". This is called \n",
        "\"weight regularization\", and it is done by adding to the loss function of the network a _cost_ associated with having large weights. This \n",
        "cost comes in two flavors:\n",
        "\n",
        "* L1 regularization, where the cost added is proportional to the _absolute value of the weights coefficients_ (i.e. to what is called the \n",
        "\"L1 norm\" of the weights).\n",
        "* L2 regularization, where the cost added is proportional to the _square of the value of the weights coefficients_ (i.e. to what is called \n",
        "the \"L2 norm\" of the weights). L2 regularization is also called _weight decay_ in the context of neural networks. Don't let the different \n",
        "name confuse you: weight decay is mathematically the exact same as L2 regularization.\n",
        "\n",
        "In Keras, weight regularization is added by passing _weight regularizer instances_ to layers as keyword arguments. Let's add L2 weight \n",
        "regularization to our movie review classification network:"
      ]
    },
    {
      "cell_type": "code",
      "metadata": {
        "id": "S1dBmQFgxflV",
        "colab_type": "code",
        "colab": {}
      },
      "source": [
        "from keras import regularizers\n",
        "\n",
        "l2_model = models.Sequential()\n",
        "l2_model.add(layers.Dense(16, kernel_regularizer=regularizers.l2(0.001),\n",
        "                          activation='relu', input_shape=(10000,)))\n",
        "l2_model.add(layers.Dense(16, kernel_regularizer=regularizers.l2(0.001),\n",
        "                          activation='relu'))\n",
        "l2_model.add(layers.Dense(1, activation='sigmoid'))"
      ],
      "execution_count": 13,
      "outputs": []
    },
    {
      "cell_type": "code",
      "metadata": {
        "id": "Jo1bCewcxfld",
        "colab_type": "code",
        "colab": {}
      },
      "source": [
        "l2_model.compile(optimizer='rmsprop',\n",
        "                 loss='binary_crossentropy',\n",
        "                 metrics=['acc'])"
      ],
      "execution_count": 14,
      "outputs": []
    },
    {
      "cell_type": "markdown",
      "metadata": {
        "id": "he5asbWFxflr",
        "colab_type": "text"
      },
      "source": [
        "`l2(0.001)` means that every coefficient in the weight matrix of the layer will add `0.001 * weight_coefficient_value` to the total loss of \n",
        "the network. Note that because this penalty is _only added at training time_, the loss for this network will be much higher at training \n",
        "than at test time.\n",
        "\n",
        "Here's the impact of our L2 regularization penalty:"
      ]
    },
    {
      "cell_type": "code",
      "metadata": {
        "id": "rXby7ui0xfls",
        "colab_type": "code",
        "colab": {
          "base_uri": "https://localhost:8080/",
          "height": 697
        },
        "outputId": "084ab3aa-ae57-431c-9ba9-608805aff9fc"
      },
      "source": [
        "l2_model_hist = l2_model.fit(x_train, y_train,\n",
        "                             epochs=20,\n",
        "                             batch_size=512,\n",
        "                             validation_data=(x_test, y_test))"
      ],
      "execution_count": 15,
      "outputs": [
        {
          "output_type": "stream",
          "text": [
            "Epoch 1/20\n",
            "49/49 [==============================] - 2s 45ms/step - loss: 0.5845 - acc: 0.7467 - val_loss: 0.4810 - val_acc: 0.8710\n",
            "Epoch 2/20\n",
            "49/49 [==============================] - 2s 36ms/step - loss: 0.3929 - acc: 0.8978 - val_loss: 0.3702 - val_acc: 0.8846\n",
            "Epoch 3/20\n",
            "49/49 [==============================] - 2s 36ms/step - loss: 0.3043 - acc: 0.9159 - val_loss: 0.3582 - val_acc: 0.8761\n",
            "Epoch 4/20\n",
            "49/49 [==============================] - 2s 36ms/step - loss: 0.2668 - acc: 0.9260 - val_loss: 0.3530 - val_acc: 0.8760\n",
            "Epoch 5/20\n",
            "49/49 [==============================] - 2s 36ms/step - loss: 0.2471 - acc: 0.9322 - val_loss: 0.3429 - val_acc: 0.8828\n",
            "Epoch 6/20\n",
            "49/49 [==============================] - 2s 38ms/step - loss: 0.2336 - acc: 0.9373 - val_loss: 0.3440 - val_acc: 0.8831\n",
            "Epoch 7/20\n",
            "49/49 [==============================] - 2s 36ms/step - loss: 0.2253 - acc: 0.9395 - val_loss: 0.3501 - val_acc: 0.8813\n",
            "Epoch 8/20\n",
            "49/49 [==============================] - 2s 36ms/step - loss: 0.2207 - acc: 0.9403 - val_loss: 0.3601 - val_acc: 0.8767\n",
            "Epoch 9/20\n",
            "49/49 [==============================] - 2s 37ms/step - loss: 0.2132 - acc: 0.9439 - val_loss: 0.3618 - val_acc: 0.8779\n",
            "Epoch 10/20\n",
            "49/49 [==============================] - 2s 35ms/step - loss: 0.2091 - acc: 0.9441 - val_loss: 0.3738 - val_acc: 0.8752\n",
            "Epoch 11/20\n",
            "49/49 [==============================] - 2s 38ms/step - loss: 0.2056 - acc: 0.9467 - val_loss: 0.3835 - val_acc: 0.8734\n",
            "Epoch 12/20\n",
            "49/49 [==============================] - 2s 37ms/step - loss: 0.2003 - acc: 0.9486 - val_loss: 0.3852 - val_acc: 0.8732\n",
            "Epoch 13/20\n",
            "49/49 [==============================] - 2s 36ms/step - loss: 0.2005 - acc: 0.9484 - val_loss: 0.3995 - val_acc: 0.8692\n",
            "Epoch 14/20\n",
            "49/49 [==============================] - 2s 36ms/step - loss: 0.1962 - acc: 0.9488 - val_loss: 0.3933 - val_acc: 0.8715\n",
            "Epoch 15/20\n",
            "49/49 [==============================] - 2s 38ms/step - loss: 0.1940 - acc: 0.9504 - val_loss: 0.4032 - val_acc: 0.8698\n",
            "Epoch 16/20\n",
            "49/49 [==============================] - 2s 37ms/step - loss: 0.1892 - acc: 0.9526 - val_loss: 0.4217 - val_acc: 0.8663\n",
            "Epoch 17/20\n",
            "49/49 [==============================] - 2s 37ms/step - loss: 0.1883 - acc: 0.9519 - val_loss: 0.4120 - val_acc: 0.8698\n",
            "Epoch 18/20\n",
            "49/49 [==============================] - 2s 38ms/step - loss: 0.1856 - acc: 0.9525 - val_loss: 0.4357 - val_acc: 0.8644\n",
            "Epoch 19/20\n",
            "49/49 [==============================] - 2s 40ms/step - loss: 0.1852 - acc: 0.9534 - val_loss: 0.4315 - val_acc: 0.8652\n",
            "Epoch 20/20\n",
            "49/49 [==============================] - 2s 39ms/step - loss: 0.1830 - acc: 0.9534 - val_loss: 0.4348 - val_acc: 0.8655\n"
          ],
          "name": "stdout"
        }
      ]
    },
    {
      "cell_type": "code",
      "metadata": {
        "id": "NcyFqi2Ixfl5",
        "colab_type": "code",
        "colab": {
          "base_uri": "https://localhost:8080/",
          "height": 280
        },
        "outputId": "3d1d57b0-7047-4cfe-e25f-ae74ffcc8daa"
      },
      "source": [
        "l2_model_val_loss = l2_model_hist.history['val_loss']\n",
        "\n",
        "plt.plot(epochs, original_val_loss, 'b+', label='Original model')\n",
        "plt.plot(epochs, l2_model_val_loss, 'bo', label='L2-regularized model')\n",
        "plt.xlabel('Epochs')\n",
        "plt.ylabel('Validation loss')\n",
        "plt.legend()\n",
        "\n",
        "plt.show()"
      ],
      "execution_count": 16,
      "outputs": [
        {
          "output_type": "display_data",
          "data": {
            "image/png": "[encoded data removed]",
            "text/plain": [
              "<Figure size 432x288 with 1 Axes>"
            ]
          },
          "metadata": {
            "tags": [],
            "needs_background": "light"
          }
        }
      ]
    },
    {
      "cell_type": "markdown",
      "metadata": {
        "id": "tCi3RwhsxfmF",
        "colab_type": "text"
      },
      "source": [
        "\n",
        "\n",
        "As you can see, the model with L2 regularization (dots) has become much more resistant to overfitting than the reference model (crosses), \n",
        "even though both models have the same number of parameters.\n",
        "\n",
        "As alternatives to L2 regularization, you could use one of the following Keras weight regularizers:"
      ]
    },
    {
      "cell_type": "code",
      "metadata": {
        "id": "jv4Q9pFpxfmG",
        "colab_type": "code",
        "colab": {
          "base_uri": "https://localhost:8080/",
          "height": 34
        },
        "outputId": "a5293454-7214-4b54-be21-1ceb6b0a9de4"
      },
      "source": [
        "from keras import regularizers\n",
        "\n",
        "# L1 regularization\n",
        "regularizers.l1(0.001)\n",
        "\n",
        "# L1 and L2 regularization at the same time\n",
        "regularizers.l1_l2(l1=0.001, l2=0.001)"
      ],
      "execution_count": 17,
      "outputs": [
        {
          "output_type": "execute_result",
          "data": {
            "text/plain": [
              "<tensorflow.python.keras.regularizers.L1L2 at 0x7fc850ff1048>"
            ]
          },
          "metadata": {
            "tags": []
          },
          "execution_count": 17
        }
      ]
    },
    {
      "cell_type": "markdown",
      "metadata": {
        "id": "Xc9vjhgMxfnT",
        "colab_type": "text"
      },
      "source": [
        "To recap: here the most common ways to prevent overfitting in neural networks:\n",
        "\n",
        "* Getting more training data.\n",
        "* Reducing the capacity of the network.\n",
        "* Adding weight regularization.\n",
        "* Adding dropout."
      ]
    },
    {
      "cell_type": "markdown",
      "metadata": {
        "id": "jqUDFS-L32Au",
        "colab_type": "text"
      },
      "source": [
        "**Contact** : [FarrokhKarimi](https://zil.ink/farrokhkarimi)  \n",
        "**Reference** : [tensorflow.com](https://www.tensorflow.org/)  \n",
        "Special thanks to [François Chollet](https://fchollet.com/)"
      ]
    }
  ]
}